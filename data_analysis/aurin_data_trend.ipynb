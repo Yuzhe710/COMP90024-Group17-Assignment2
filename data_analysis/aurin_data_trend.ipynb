{
 "cells": [
  {
   "cell_type": "code",
   "execution_count": 1,
   "id": "d0258097",
   "metadata": {},
   "outputs": [],
   "source": [
    "import numpy as np\n",
    "import pandas as pd\n",
    "import matplotlib.pyplot as plt"
   ]
  },
  {
   "cell_type": "code",
   "execution_count": 2,
   "id": "34234c21",
   "metadata": {},
   "outputs": [],
   "source": [
    "mean_income = pd.read_csv('2014-2018 mean_income.csv')\n",
    "median_house_price = pd.read_csv('2014-2018 median_house_price.csv')\n",
    "pop_density = pd.read_csv('2014-2018 population and density.csv')"
   ]
  },
  {
   "cell_type": "markdown",
   "id": "1b8b009a",
   "metadata": {},
   "source": [
    "## Pre-Processing"
   ]
  },
  {
   "cell_type": "code",
   "execution_count": 3,
   "id": "7305d3cc",
   "metadata": {},
   "outputs": [],
   "source": [
    "mean_income = mean_income.sort_values(by = 'Code')\n",
    "mean_income = pd.DataFrame.transpose(mean_income)\n",
    "area_name = mean_income.iloc[1]\n",
    "mean_income = mean_income.rename(columns = area_name)\n",
    "mean_income = mean_income.drop('Name')\n",
    "mean_income = mean_income.drop('Code')"
   ]
  },
  {
   "cell_type": "code",
   "execution_count": 4,
   "id": "a9618020",
   "metadata": {},
   "outputs": [],
   "source": [
    "median_house_price = median_house_price.sort_values(by = 'Code')\n",
    "median_house_price = pd.DataFrame.transpose(median_house_price)\n",
    "area_name = median_house_price.iloc[1]\n",
    "median_house_price = median_house_price.rename(columns = area_name)\n",
    "median_house_price = median_house_price.drop('Name')\n",
    "median_house_price = median_house_price.drop('Code')"
   ]
  },
  {
   "cell_type": "code",
   "execution_count": 5,
   "id": "d543bc64",
   "metadata": {},
   "outputs": [],
   "source": [
    "pop_density = pop_density.sort_values(by = \"Code\")\n",
    "pop_density = pd.DataFrame.transpose(pop_density)\n",
    "area_name = pop_density.iloc[1]\n",
    "pop_density = pop_density.rename(columns = area_name)\n",
    "pop_density = pop_density.drop('Name')\n",
    "pop_density = pop_density.drop('Code')"
   ]
  },
  {
   "cell_type": "code",
   "execution_count": 6,
   "id": "69f3526d",
   "metadata": {},
   "outputs": [],
   "source": [
    "total_population = pop_density.loc[['2014Total_population', '2015Total_population', '2016Total_population', '2017Total_population', '2018Total_population']]"
   ]
  },
  {
   "cell_type": "code",
   "execution_count": 7,
   "id": "be74d081",
   "metadata": {},
   "outputs": [],
   "source": [
    "density = pop_density.loc[['2014Population_density(person/km2)', '2015Population_density(person/km2)', '2016Population_density(person/km2)', '2017Population_density(person/km2)', '2018Population_density(person/km2)']]"
   ]
  },
  {
   "cell_type": "code",
   "execution_count": 12,
   "id": "01bb067e",
   "metadata": {},
   "outputs": [
    {
     "data": {
      "text/html": [
       "<div>\n",
       "<style scoped>\n",
       "    .dataframe tbody tr th:only-of-type {\n",
       "        vertical-align: middle;\n",
       "    }\n",
       "\n",
       "    .dataframe tbody tr th {\n",
       "        vertical-align: top;\n",
       "    }\n",
       "\n",
       "    .dataframe thead th {\n",
       "        text-align: right;\n",
       "    }\n",
       "</style>\n",
       "<table border=\"1\" class=\"dataframe\">\n",
       "  <thead>\n",
       "    <tr style=\"text-align: right;\">\n",
       "      <th></th>\n",
       "      <th>Creswick - Daylesford - Ballan</th>\n",
       "      <th>Heathcote - Castlemaine - Kyneton</th>\n",
       "      <th>Geelong</th>\n",
       "      <th>Surf Coast - Bellarine Peninsula</th>\n",
       "      <th>Upper Goulburn Valley</th>\n",
       "      <th>Baw Baw</th>\n",
       "      <th>Gippsland - South West</th>\n",
       "      <th>Brunswick - Coburg</th>\n",
       "      <th>Darebin - South</th>\n",
       "      <th>Essendon</th>\n",
       "      <th>...</th>\n",
       "      <th>Casey - South</th>\n",
       "      <th>Dandenong</th>\n",
       "      <th>Monash</th>\n",
       "      <th>Brimbank</th>\n",
       "      <th>Hobsons Bay</th>\n",
       "      <th>Maribyrnong</th>\n",
       "      <th>Melton - Bacchus Marsh</th>\n",
       "      <th>Wyndham</th>\n",
       "      <th>Frankston</th>\n",
       "      <th>Mornington Peninsula</th>\n",
       "    </tr>\n",
       "  </thead>\n",
       "  <tbody>\n",
       "    <tr>\n",
       "      <th>2014Population_density(person/km2)</th>\n",
       "      <td>7.7</td>\n",
       "      <td>11.8</td>\n",
       "      <td>201.9</td>\n",
       "      <td>73.3</td>\n",
       "      <td>3.8</td>\n",
       "      <td>11.9</td>\n",
       "      <td>13.8</td>\n",
       "      <td>4312.6</td>\n",
       "      <td>3812.5</td>\n",
       "      <td>3695</td>\n",
       "      <td>...</td>\n",
       "      <td>527.3</td>\n",
       "      <td>1244.7</td>\n",
       "      <td>2244.8</td>\n",
       "      <td>1775.1</td>\n",
       "      <td>1375.2</td>\n",
       "      <td>2640.9</td>\n",
       "      <td>218.4</td>\n",
       "      <td>379.3</td>\n",
       "      <td>1050.8</td>\n",
       "      <td>216.1</td>\n",
       "    </tr>\n",
       "    <tr>\n",
       "      <th>2015Population_density(person/km2)</th>\n",
       "      <td>7.7</td>\n",
       "      <td>12</td>\n",
       "      <td>205.4</td>\n",
       "      <td>76.2</td>\n",
       "      <td>3.8</td>\n",
       "      <td>12.2</td>\n",
       "      <td>14</td>\n",
       "      <td>4402.8</td>\n",
       "      <td>3876.7</td>\n",
       "      <td>3775.1</td>\n",
       "      <td>...</td>\n",
       "      <td>561.5</td>\n",
       "      <td>1271.7</td>\n",
       "      <td>2281.2</td>\n",
       "      <td>1796.7</td>\n",
       "      <td>1395.3</td>\n",
       "      <td>2715.2</td>\n",
       "      <td>227.4</td>\n",
       "      <td>401.9</td>\n",
       "      <td>1063.2</td>\n",
       "      <td>219.3</td>\n",
       "    </tr>\n",
       "    <tr>\n",
       "      <th>2016Population_density(person/km2)</th>\n",
       "      <td>7.8</td>\n",
       "      <td>12.3</td>\n",
       "      <td>210.2</td>\n",
       "      <td>79.5</td>\n",
       "      <td>3.9</td>\n",
       "      <td>12.6</td>\n",
       "      <td>14.3</td>\n",
       "      <td>4504</td>\n",
       "      <td>3952</td>\n",
       "      <td>3861.4</td>\n",
       "      <td>...</td>\n",
       "      <td>599.3</td>\n",
       "      <td>1300.6</td>\n",
       "      <td>2322.6</td>\n",
       "      <td>1826.9</td>\n",
       "      <td>1421.2</td>\n",
       "      <td>2784.3</td>\n",
       "      <td>238.1</td>\n",
       "      <td>426.4</td>\n",
       "      <td>1076.4</td>\n",
       "      <td>223.1</td>\n",
       "    </tr>\n",
       "    <tr>\n",
       "      <th>2017Population_density(person/km2)</th>\n",
       "      <td>7.9</td>\n",
       "      <td>12.5</td>\n",
       "      <td>215</td>\n",
       "      <td>82.4</td>\n",
       "      <td>4</td>\n",
       "      <td>12.9</td>\n",
       "      <td>14.6</td>\n",
       "      <td>4631.6</td>\n",
       "      <td>4029.2</td>\n",
       "      <td>3950.3</td>\n",
       "      <td>...</td>\n",
       "      <td>640.7</td>\n",
       "      <td>1324.2</td>\n",
       "      <td>2374.9</td>\n",
       "      <td>1852</td>\n",
       "      <td>1442</td>\n",
       "      <td>2861.8</td>\n",
       "      <td>249.6</td>\n",
       "      <td>452.9</td>\n",
       "      <td>1085.8</td>\n",
       "      <td>226.2</td>\n",
       "    </tr>\n",
       "    <tr>\n",
       "      <th>2018Population_density(person/km2)</th>\n",
       "      <td>8</td>\n",
       "      <td>12.7</td>\n",
       "      <td>219.8</td>\n",
       "      <td>85.7</td>\n",
       "      <td>4</td>\n",
       "      <td>13.2</td>\n",
       "      <td>14.8</td>\n",
       "      <td>4765.8</td>\n",
       "      <td>4094.9</td>\n",
       "      <td>4038</td>\n",
       "      <td>...</td>\n",
       "      <td>682.3</td>\n",
       "      <td>1344</td>\n",
       "      <td>2415</td>\n",
       "      <td>1868.2</td>\n",
       "      <td>1461.8</td>\n",
       "      <td>2927.5</td>\n",
       "      <td>262.3</td>\n",
       "      <td>479.5</td>\n",
       "      <td>1094.5</td>\n",
       "      <td>229</td>\n",
       "    </tr>\n",
       "  </tbody>\n",
       "</table>\n",
       "<p>5 rows × 47 columns</p>\n",
       "</div>"
      ],
      "text/plain": [
       "                                   Creswick - Daylesford - Ballan  \\\n",
       "2014Population_density(person/km2)                            7.7   \n",
       "2015Population_density(person/km2)                            7.7   \n",
       "2016Population_density(person/km2)                            7.8   \n",
       "2017Population_density(person/km2)                            7.9   \n",
       "2018Population_density(person/km2)                              8   \n",
       "\n",
       "                                   Heathcote - Castlemaine - Kyneton Geelong  \\\n",
       "2014Population_density(person/km2)                              11.8   201.9   \n",
       "2015Population_density(person/km2)                                12   205.4   \n",
       "2016Population_density(person/km2)                              12.3   210.2   \n",
       "2017Population_density(person/km2)                              12.5     215   \n",
       "2018Population_density(person/km2)                              12.7   219.8   \n",
       "\n",
       "                                   Surf Coast - Bellarine Peninsula  \\\n",
       "2014Population_density(person/km2)                             73.3   \n",
       "2015Population_density(person/km2)                             76.2   \n",
       "2016Population_density(person/km2)                             79.5   \n",
       "2017Population_density(person/km2)                             82.4   \n",
       "2018Population_density(person/km2)                             85.7   \n",
       "\n",
       "                                   Upper Goulburn Valley Baw Baw  \\\n",
       "2014Population_density(person/km2)                   3.8    11.9   \n",
       "2015Population_density(person/km2)                   3.8    12.2   \n",
       "2016Population_density(person/km2)                   3.9    12.6   \n",
       "2017Population_density(person/km2)                     4    12.9   \n",
       "2018Population_density(person/km2)                     4    13.2   \n",
       "\n",
       "                                   Gippsland - South West Brunswick - Coburg  \\\n",
       "2014Population_density(person/km2)                   13.8             4312.6   \n",
       "2015Population_density(person/km2)                     14             4402.8   \n",
       "2016Population_density(person/km2)                   14.3               4504   \n",
       "2017Population_density(person/km2)                   14.6             4631.6   \n",
       "2018Population_density(person/km2)                   14.8             4765.8   \n",
       "\n",
       "                                   Darebin - South Essendon  ...  \\\n",
       "2014Population_density(person/km2)          3812.5     3695  ...   \n",
       "2015Population_density(person/km2)          3876.7   3775.1  ...   \n",
       "2016Population_density(person/km2)            3952   3861.4  ...   \n",
       "2017Population_density(person/km2)          4029.2   3950.3  ...   \n",
       "2018Population_density(person/km2)          4094.9     4038  ...   \n",
       "\n",
       "                                   Casey - South Dandenong  Monash Brimbank  \\\n",
       "2014Population_density(person/km2)         527.3    1244.7  2244.8   1775.1   \n",
       "2015Population_density(person/km2)         561.5    1271.7  2281.2   1796.7   \n",
       "2016Population_density(person/km2)         599.3    1300.6  2322.6   1826.9   \n",
       "2017Population_density(person/km2)         640.7    1324.2  2374.9     1852   \n",
       "2018Population_density(person/km2)         682.3      1344    2415   1868.2   \n",
       "\n",
       "                                   Hobsons Bay Maribyrnong  \\\n",
       "2014Population_density(person/km2)      1375.2      2640.9   \n",
       "2015Population_density(person/km2)      1395.3      2715.2   \n",
       "2016Population_density(person/km2)      1421.2      2784.3   \n",
       "2017Population_density(person/km2)        1442      2861.8   \n",
       "2018Population_density(person/km2)      1461.8      2927.5   \n",
       "\n",
       "                                   Melton - Bacchus Marsh Wyndham Frankston  \\\n",
       "2014Population_density(person/km2)                  218.4   379.3    1050.8   \n",
       "2015Population_density(person/km2)                  227.4   401.9    1063.2   \n",
       "2016Population_density(person/km2)                  238.1   426.4    1076.4   \n",
       "2017Population_density(person/km2)                  249.6   452.9    1085.8   \n",
       "2018Population_density(person/km2)                  262.3   479.5    1094.5   \n",
       "\n",
       "                                   Mornington Peninsula  \n",
       "2014Population_density(person/km2)                216.1  \n",
       "2015Population_density(person/km2)                219.3  \n",
       "2016Population_density(person/km2)                223.1  \n",
       "2017Population_density(person/km2)                226.2  \n",
       "2018Population_density(person/km2)                  229  \n",
       "\n",
       "[5 rows x 47 columns]"
      ]
     },
     "execution_count": 12,
     "metadata": {},
     "output_type": "execute_result"
    }
   ],
   "source": [
    "density"
   ]
  },
  {
   "cell_type": "markdown",
   "id": "8a869f5b",
   "metadata": {},
   "source": [
    "## Trend Analysis"
   ]
  },
  {
   "cell_type": "code",
   "execution_count": 8,
   "id": "92bf6e96",
   "metadata": {},
   "outputs": [],
   "source": [
    "area = \"Yarra\"\n",
    "area_agg = pd.DataFrame()\n",
    "area_agg['mean income'] = list(mean_income[area])\n",
    "area_agg['median house price'] = list(median_house_price[area])\n",
    "area_agg['total population'] = list(total_population[area])\n",
    "#area_agg['population density'] = list(density[area])\n",
    "area_agg.index = ['2014', '2015', '2016', '2017', '2018']"
   ]
  },
  {
   "cell_type": "code",
   "execution_count": 9,
   "id": "c030e090",
   "metadata": {
    "scrolled": true
   },
   "outputs": [],
   "source": [
    "normalized_agg = (area_agg - area_agg.mean())/area_agg.std()"
   ]
  },
  {
   "cell_type": "code",
   "execution_count": 10,
   "id": "f880312b",
   "metadata": {},
   "outputs": [
    {
     "data": {
      "text/plain": [
       "<matplotlib.legend.Legend at 0x7ff3adfd8730>"
      ]
     },
     "execution_count": 10,
     "metadata": {},
     "output_type": "execute_result"
    },
    {
     "data": {
      "image/png": "[encoded data removed]",
      "text/plain": [
       "<Figure size 432x288 with 1 Axes>"
      ]
     },
     "metadata": {
      "needs_background": "light"
     },
     "output_type": "display_data"
    }
   ],
   "source": [
    "plt.plot(normalized_agg)\n",
    "plt.ylabel('Standardized Score')\n",
    "plt.xlabel('Year')\n",
    "plt.title(\"Trend analysis of area:\" + area)\n",
    "plt.legend(list(normalized_agg.columns))"
   ]
  }
 ],
 "metadata": {
  "kernelspec": {
   "display_name": "Python 3",
   "language": "python",
   "name": "python3"
  },
  "language_info": {
   "codemirror_mode": {
    "name": "ipython",
    "version": 3
   },
   "file_extension": ".py",
   "mimetype": "text/x-python",
   "name": "python",
   "nbconvert_exporter": "python",
   "pygments_lexer": "ipython3",
   "version": "3.8.8"
  }
 },
 "nbformat": 4,
 "nbformat_minor": 5
}
