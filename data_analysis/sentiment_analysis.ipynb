{
 "cells": [
  {
   "cell_type": "code",
   "execution_count": 52,
   "metadata": {},
   "outputs": [],
   "source": [
    "import json\n",
    "import pandas as pd\n",
    "import re"
   ]
  },
  {
   "cell_type": "code",
   "execution_count": 53,
   "metadata": {},
   "outputs": [
    {
     "data": {
      "text/html": [
       "<div>\n",
       "<style scoped>\n",
       "    .dataframe tbody tr th:only-of-type {\n",
       "        vertical-align: middle;\n",
       "    }\n",
       "\n",
       "    .dataframe tbody tr th {\n",
       "        vertical-align: top;\n",
       "    }\n",
       "\n",
       "    .dataframe thead th {\n",
       "        text-align: right;\n",
       "    }\n",
       "</style>\n",
       "<table border=\"1\" class=\"dataframe\">\n",
       "  <thead>\n",
       "    <tr style=\"text-align: right;\">\n",
       "      <th></th>\n",
       "      <th>text</th>\n",
       "    </tr>\n",
       "  </thead>\n",
       "  <tbody>\n",
       "    <tr>\n",
       "      <th>0</th>\n",
       "      <td>RT @repdarrellissa: Nobody is buying this Whit...</td>\n",
       "    </tr>\n",
       "    <tr>\n",
       "      <th>1</th>\n",
       "      <td>RT @KATATHEGREAT: Jiu Jitsu guys when someone ...</td>\n",
       "    </tr>\n",
       "    <tr>\n",
       "      <th>2</th>\n",
       "      <td>RT @SamRamani2: BREAKING: House Speaker Nancy ...</td>\n",
       "    </tr>\n",
       "    <tr>\n",
       "      <th>3</th>\n",
       "      <td>RT @ahistoryinart: 'The Deer in Petworth Park....</td>\n",
       "    </tr>\n",
       "    <tr>\n",
       "      <th>4</th>\n",
       "      <td>RT @SamRamani2: BREAKING: House Speaker Nancy ...</td>\n",
       "    </tr>\n",
       "  </tbody>\n",
       "</table>\n",
       "</div>"
      ],
      "text/plain": [
       "                                                text\n",
       "0  RT @repdarrellissa: Nobody is buying this Whit...\n",
       "1  RT @KATATHEGREAT: Jiu Jitsu guys when someone ...\n",
       "2  RT @SamRamani2: BREAKING: House Speaker Nancy ...\n",
       "3  RT @ahistoryinart: 'The Deer in Petworth Park....\n",
       "4  RT @SamRamani2: BREAKING: House Speaker Nancy ..."
      ]
     },
     "execution_count": 53,
     "metadata": {},
     "output_type": "execute_result"
    }
   ],
   "source": [
    "# load text of tweets\n",
    "twitter = []\n",
    "with open('Twitter1.json') as json_file:\n",
    "    data = json.load(json_file)\n",
    "    for tweet in data:\n",
    "        twitter.append(tweet['text'])\n",
    "twitter = pd.DataFrame({\"text\": twitter})\n",
    "twitter.head()"
   ]
  },
  {
   "cell_type": "code",
   "execution_count": 54,
   "metadata": {},
   "outputs": [
    {
     "data": {
      "text/html": [
       "<div>\n",
       "<style scoped>\n",
       "    .dataframe tbody tr th:only-of-type {\n",
       "        vertical-align: middle;\n",
       "    }\n",
       "\n",
       "    .dataframe tbody tr th {\n",
       "        vertical-align: top;\n",
       "    }\n",
       "\n",
       "    .dataframe thead th {\n",
       "        text-align: right;\n",
       "    }\n",
       "</style>\n",
       "<table border=\"1\" class=\"dataframe\">\n",
       "  <thead>\n",
       "    <tr style=\"text-align: right;\">\n",
       "      <th></th>\n",
       "      <th>text</th>\n",
       "      <th>tidy_text</th>\n",
       "    </tr>\n",
       "  </thead>\n",
       "  <tbody>\n",
       "    <tr>\n",
       "      <th>0</th>\n",
       "      <td>RT @repdarrellissa: Nobody is buying this Whit...</td>\n",
       "      <td>RT : Nobody is buying this White House isn’t b...</td>\n",
       "    </tr>\n",
       "    <tr>\n",
       "      <th>1</th>\n",
       "      <td>RT @KATATHEGREAT: Jiu Jitsu guys when someone ...</td>\n",
       "      <td>RT : Jiu Jitsu guys when someone breaks into t...</td>\n",
       "    </tr>\n",
       "    <tr>\n",
       "      <th>2</th>\n",
       "      <td>RT @SamRamani2: BREAKING: House Speaker Nancy ...</td>\n",
       "      <td>RT : BREAKING: House Speaker Nancy Pelosi expr...</td>\n",
       "    </tr>\n",
       "    <tr>\n",
       "      <th>3</th>\n",
       "      <td>RT @ahistoryinart: 'The Deer in Petworth Park....</td>\n",
       "      <td>RT : 'The Deer in Petworth Park.' (1827) We do...</td>\n",
       "    </tr>\n",
       "    <tr>\n",
       "      <th>4</th>\n",
       "      <td>RT @SamRamani2: BREAKING: House Speaker Nancy ...</td>\n",
       "      <td>RT : BREAKING: House Speaker Nancy Pelosi expr...</td>\n",
       "    </tr>\n",
       "  </tbody>\n",
       "</table>\n",
       "</div>"
      ],
      "text/plain": [
       "                                                text  \\\n",
       "0  RT @repdarrellissa: Nobody is buying this Whit...   \n",
       "1  RT @KATATHEGREAT: Jiu Jitsu guys when someone ...   \n",
       "2  RT @SamRamani2: BREAKING: House Speaker Nancy ...   \n",
       "3  RT @ahistoryinart: 'The Deer in Petworth Park....   \n",
       "4  RT @SamRamani2: BREAKING: House Speaker Nancy ...   \n",
       "\n",
       "                                           tidy_text  \n",
       "0  RT : Nobody is buying this White House isn’t b...  \n",
       "1  RT : Jiu Jitsu guys when someone breaks into t...  \n",
       "2  RT : BREAKING: House Speaker Nancy Pelosi expr...  \n",
       "3  RT : 'The Deer in Petworth Park.' (1827) We do...  \n",
       "4  RT : BREAKING: House Speaker Nancy Pelosi expr...  "
      ]
     },
     "execution_count": 54,
     "metadata": {},
     "output_type": "execute_result"
    }
   ],
   "source": [
    "# preprocess tweets\n",
    "import preprocessor as p\n",
    "p.set_options(p.OPT.URL, p.OPT.MENTION)\n",
    "def preprocess(tweet):\n",
    "    tweet = p.clean(tweet)\n",
    "    return tweet\n",
    "twitter['tidy_text'] = [preprocess(t) for t in twitter['text']]\n",
    "twitter.head()"
   ]
  },
  {
   "cell_type": "code",
   "execution_count": 55,
   "metadata": {},
   "outputs": [
    {
     "data": {
      "text/html": [
       "<div>\n",
       "<style scoped>\n",
       "    .dataframe tbody tr th:only-of-type {\n",
       "        vertical-align: middle;\n",
       "    }\n",
       "\n",
       "    .dataframe tbody tr th {\n",
       "        vertical-align: top;\n",
       "    }\n",
       "\n",
       "    .dataframe thead th {\n",
       "        text-align: right;\n",
       "    }\n",
       "</style>\n",
       "<table border=\"1\" class=\"dataframe\">\n",
       "  <thead>\n",
       "    <tr style=\"text-align: right;\">\n",
       "      <th></th>\n",
       "      <th>text</th>\n",
       "      <th>tidy_text</th>\n",
       "      <th>polarity_score_vader</th>\n",
       "      <th>polarity_score_textblob</th>\n",
       "      <th>label_vader</th>\n",
       "      <th>label_textblob</th>\n",
       "    </tr>\n",
       "  </thead>\n",
       "  <tbody>\n",
       "    <tr>\n",
       "      <th>0</th>\n",
       "      <td>RT @repdarrellissa: Nobody is buying this Whit...</td>\n",
       "      <td>RT : Nobody is buying this White House isn’t b...</td>\n",
       "      <td>(0.26, 0.136)</td>\n",
       "      <td>-0.20</td>\n",
       "      <td>negative</td>\n",
       "      <td>negative</td>\n",
       "    </tr>\n",
       "    <tr>\n",
       "      <th>1</th>\n",
       "      <td>RT @KATATHEGREAT: Jiu Jitsu guys when someone ...</td>\n",
       "      <td>RT : Jiu Jitsu guys when someone breaks into t...</td>\n",
       "      <td>(0.0, 0.0)</td>\n",
       "      <td>0.00</td>\n",
       "      <td>neutral</td>\n",
       "      <td>neutral</td>\n",
       "    </tr>\n",
       "    <tr>\n",
       "      <th>2</th>\n",
       "      <td>RT @SamRamani2: BREAKING: House Speaker Nancy ...</td>\n",
       "      <td>RT : BREAKING: House Speaker Nancy Pelosi expr...</td>\n",
       "      <td>(0.197, 0.116)</td>\n",
       "      <td>0.00</td>\n",
       "      <td>negative</td>\n",
       "      <td>neutral</td>\n",
       "    </tr>\n",
       "    <tr>\n",
       "      <th>3</th>\n",
       "      <td>RT @ahistoryinart: 'The Deer in Petworth Park....</td>\n",
       "      <td>RT : 'The Deer in Petworth Park.' (1827) We do...</td>\n",
       "      <td>(0.0, 0.0)</td>\n",
       "      <td>0.25</td>\n",
       "      <td>neutral</td>\n",
       "      <td>positive</td>\n",
       "    </tr>\n",
       "    <tr>\n",
       "      <th>4</th>\n",
       "      <td>RT @SamRamani2: BREAKING: House Speaker Nancy ...</td>\n",
       "      <td>RT : BREAKING: House Speaker Nancy Pelosi expr...</td>\n",
       "      <td>(0.197, 0.116)</td>\n",
       "      <td>0.00</td>\n",
       "      <td>negative</td>\n",
       "      <td>neutral</td>\n",
       "    </tr>\n",
       "  </tbody>\n",
       "</table>\n",
       "</div>"
      ],
      "text/plain": [
       "                                                text  \\\n",
       "0  RT @repdarrellissa: Nobody is buying this Whit...   \n",
       "1  RT @KATATHEGREAT: Jiu Jitsu guys when someone ...   \n",
       "2  RT @SamRamani2: BREAKING: House Speaker Nancy ...   \n",
       "3  RT @ahistoryinart: 'The Deer in Petworth Park....   \n",
       "4  RT @SamRamani2: BREAKING: House Speaker Nancy ...   \n",
       "\n",
       "                                           tidy_text polarity_score_vader  \\\n",
       "0  RT : Nobody is buying this White House isn’t b...        (0.26, 0.136)   \n",
       "1  RT : Jiu Jitsu guys when someone breaks into t...           (0.0, 0.0)   \n",
       "2  RT : BREAKING: House Speaker Nancy Pelosi expr...       (0.197, 0.116)   \n",
       "3  RT : 'The Deer in Petworth Park.' (1827) We do...           (0.0, 0.0)   \n",
       "4  RT : BREAKING: House Speaker Nancy Pelosi expr...       (0.197, 0.116)   \n",
       "\n",
       "   polarity_score_textblob label_vader label_textblob  \n",
       "0                    -0.20    negative       negative  \n",
       "1                     0.00     neutral        neutral  \n",
       "2                     0.00    negative        neutral  \n",
       "3                     0.25     neutral       positive  \n",
       "4                     0.00    negative        neutral  "
      ]
     },
     "execution_count": 55,
     "metadata": {},
     "output_type": "execute_result"
    }
   ],
   "source": [
    "# sentiment analysis with NLTK-VADER\n",
    "from vaderSentiment.vaderSentiment import SentimentIntensityAnalyzer\n",
    "sia = SentimentIntensityAnalyzer()\n",
    "twitter['polarity_score_vader'] = [(sia.polarity_scores(t)['neg'], sia.polarity_scores(t)['pos']) for t in twitter['tidy_text']]\n",
    "\n",
    "# sentiment analysis with TextBlob\n",
    "from textblob import TextBlob\n",
    "twitter['polarity_score_textblob'] = [TextBlob(t).sentiment.polarity for t in twitter['tidy_text']]\n",
    "\n",
    "# define polarity\n",
    "def attidude(score, method):\n",
    "    if method == 'vader':\n",
    "        if score[0] < score[1]:\n",
    "            return 'positive'\n",
    "        elif score[0] > score[1]:\n",
    "            return 'negative'\n",
    "        else:\n",
    "            return 'neutral'\n",
    "\n",
    "    elif method == 'textblob':\n",
    "        if score > 0:\n",
    "            return 'positive'\n",
    "        elif score < 0:\n",
    "            return 'negative'\n",
    "        else:\n",
    "            return 'neutral'\n",
    "\n",
    "twitter['label_vader'] = [attidude(s, 'vader') for s in twitter['polarity_score_vader']]\n",
    "twitter['label_textblob'] = [attidude(s, 'textblob') for s in twitter['polarity_score_textblob']]\n",
    "twitter.head()"
   ]
  },
  {
   "cell_type": "code",
   "execution_count": 56,
   "metadata": {},
   "outputs": [
    {
     "name": "stdout",
     "output_type": "stream",
     "text": [
      "% of samples where the two methods agree: 0.5706467661691542\n"
     ]
    }
   ],
   "source": [
    "print(\"% of samples where the two methods agree: {}\".format(sum(twitter['label_vader'] == twitter['label_textblob'])/twitter.shape[0]))"
   ]
  },
  {
   "cell_type": "code",
   "execution_count": 57,
   "metadata": {},
   "outputs": [
    {
     "data": {
      "image/png": "[encoded data removed]",
      "text/plain": [
       "<Figure size 432x288 with 1 Axes>"
      ]
     },
     "metadata": {
      "needs_background": "light"
     },
     "output_type": "display_data"
    }
   ],
   "source": [
    "twitter['label_vader'].value_counts().plot(kind='bar');"
   ]
  },
  {
   "cell_type": "code",
   "execution_count": 58,
   "metadata": {},
   "outputs": [
    {
     "data": {
      "image/png": "[encoded data removed]",
      "text/plain": [
       "<Figure size 432x288 with 1 Axes>"
      ]
     },
     "metadata": {
      "needs_background": "light"
     },
     "output_type": "display_data"
    }
   ],
   "source": [
    "twitter['label_textblob'].value_counts().plot(kind='bar');"
   ]
  }
 ],
 "metadata": {
  "interpreter": {
   "hash": "40d3a090f54c6569ab1632332b64b2c03c39dcf918b08424e98f38b5ae0af88f"
  },
  "kernelspec": {
   "display_name": "Python 3.7.6 ('base')",
   "language": "python",
   "name": "python3"
  },
  "language_info": {
   "codemirror_mode": {
    "name": "ipython",
    "version": 3
   },
   "file_extension": ".py",
   "mimetype": "text/x-python",
   "name": "python",
   "nbconvert_exporter": "python",
   "pygments_lexer": "ipython3",
   "version": "3.7.6"
  },
  "orig_nbformat": 4
 },
 "nbformat": 4,
 "nbformat_minor": 2
}
